{
 "cells": [
  {
   "cell_type": "code",
   "execution_count": 1,
   "id": "591b281c",
   "metadata": {},
   "outputs": [],
   "source": [
    "import mtest\n",
    "import numpy as np\n",
    "import matplotlib.pyplot as plt"
   ]
  },
  {
   "cell_type": "code",
   "execution_count": 2,
   "id": "7fceb6ff",
   "metadata": {},
   "outputs": [],
   "source": [
    "GM0 = 1.45e9\n",
    "KM0 = 3.44e9\n",
    "tmax = 15\n",
    "tload = 0.5\n",
    "K = 3.61e6\n",
    "alpha_y = 0.28\n",
    "alpha_g = 0.25"
   ]
  },
  {
   "cell_type": "code",
   "execution_count": 3,
   "id": "0908ff4c",
   "metadata": {},
   "outputs": [],
   "source": [
    "m = mtest.MTest()\n",
    "mtest.setVerboseMode(mtest.VerboseLevel.VERBOSE_QUIET)\n",
    "m.setMaximumNumberOfSubSteps(10)\n",
    "m.setBehaviour(\"generic\", \"src/libBehaviour.so\", \"DruckerPrager\")\n",
    "m.setExternalStateVariable(\"Temperature\", 293.15)\n",
    "m.setImposedStress(\"SXX\", 0)\n",
    "m.setImposedStress(\"SYY\", 0)\n",
    "m.setImposedStrain(\"EZZ\", {0: 0, tload: -2.e-2})"
   ]
  },
  {
   "cell_type": "code",
   "execution_count": 4,
   "id": "ce7a0901",
   "metadata": {},
   "outputs": [],
   "source": [
    "m.setMaterialProperty(\"Cohesion\", K)\n",
    "m.setMaterialProperty(\"FrictionParameter\", alpha_y)\n",
    "m.setMaterialProperty(\"DilatancyParameter\", alpha_g)\n",
    "m.setMaterialProperty(\n",
    "    \"YoungModulus\", (9 * GM0 * KM0) / (3 * KM0 + GM0)\n",
    ")  \n",
    "m.setMaterialProperty(\n",
    "    \"PoissonRatio\", (3 * KM0 - 2 * GM0) / (2 * GM0 + 6 * KM0)\n",
    ")"
   ]
  },
  {
   "cell_type": "code",
   "execution_count": 5,
   "id": "03584cb9",
   "metadata": {},
   "outputs": [
    {
     "data": {
      "text/plain": [
       "array([0.00000000e+00, 1.02040816e-02, 2.04081633e-02, 3.06122449e-02,\n",
       "       4.08163265e-02, 5.10204082e-02, 6.12244898e-02, 7.14285714e-02,\n",
       "       8.16326531e-02, 9.18367347e-02, 1.02040816e-01, 1.12244898e-01,\n",
       "       1.22448980e-01, 1.32653061e-01, 1.42857143e-01, 1.53061224e-01,\n",
       "       1.63265306e-01, 1.73469388e-01, 1.83673469e-01, 1.93877551e-01,\n",
       "       2.04081633e-01, 2.14285714e-01, 2.24489796e-01, 2.34693878e-01,\n",
       "       2.44897959e-01, 2.55102041e-01, 2.65306122e-01, 2.75510204e-01,\n",
       "       2.85714286e-01, 2.95918367e-01, 3.06122449e-01, 3.16326531e-01,\n",
       "       3.26530612e-01, 3.36734694e-01, 3.46938776e-01, 3.57142857e-01,\n",
       "       3.67346939e-01, 3.77551020e-01, 3.87755102e-01, 3.97959184e-01,\n",
       "       4.08163265e-01, 4.18367347e-01, 4.28571429e-01, 4.38775510e-01,\n",
       "       4.48979592e-01, 4.59183673e-01, 4.69387755e-01, 4.79591837e-01,\n",
       "       4.89795918e-01, 5.00000000e-01, 5.10000000e-01, 1.27263158e+00,\n",
       "       2.03526316e+00, 2.79789474e+00, 3.56052632e+00, 4.32315789e+00,\n",
       "       5.08578947e+00, 5.84842105e+00, 6.61105263e+00, 7.37368421e+00,\n",
       "       8.13631579e+00, 8.89894737e+00, 9.66157895e+00, 1.04242105e+01,\n",
       "       1.11868421e+01, 1.19494737e+01, 1.27121053e+01, 1.34747368e+01,\n",
       "       1.42373684e+01, 1.50000000e+01])"
      ]
     },
     "execution_count": 5,
     "metadata": {},
     "output_type": "execute_result"
    }
   ],
   "source": [
    "ltime = np.append(np.linspace(0, tload, 50), np.linspace(tload*51/50, tmax, 20))\n",
    "ltime"
   ]
  },
  {
   "cell_type": "code",
   "execution_count": 6,
   "id": "1b7ad657",
   "metadata": {},
   "outputs": [],
   "source": [
    "s = mtest.MTestCurrentState()\n",
    "wk = mtest.MTestWorkSpace()\n",
    "m.completeInitialisation()\n",
    "m.initializeCurrentState(s)\n",
    "m.initializeWorkSpace(wk)\n",
    "\n",
    "numerical1 = np.array([0.0])\n",
    "numerical2 = np.array([0.0])"
   ]
  },
  {
   "cell_type": "code",
   "execution_count": 7,
   "id": "090047c9",
   "metadata": {},
   "outputs": [
    {
     "name": "stdout",
     "output_type": "stream",
     "text": [
      "time 0\n",
      "time 1\n",
      "time 2\n",
      "time 3\n",
      "time 4\n",
      "time 5\n",
      "time 6\n",
      "time 7\n",
      "time 8\n",
      "time 9\n",
      "time 10\n",
      "time 11\n",
      "time 12\n",
      "time 13\n",
      "time 14\n",
      "time 15\n",
      "time 16\n",
      "time 17\n",
      "time 18\n",
      "time 19\n",
      "time 20\n",
      "time 21\n",
      "time 22\n",
      "time 23\n",
      "time 24\n",
      "time 25\n",
      "time 26\n",
      "time 27\n",
      "time 28\n",
      "time 29\n",
      "time 30\n",
      "time 31\n",
      "time 32\n",
      "time 33\n",
      "time 34\n",
      "time 35\n",
      "time 36\n",
      "time 37\n",
      "time 38\n",
      "time 39\n",
      "time 40\n",
      "time 41\n",
      "time 42\n",
      "time 43\n",
      "time 44\n",
      "time 45\n",
      "time 46\n",
      "time 47\n",
      "time 48\n",
      "time 49\n",
      "time 50\n",
      "time 51\n",
      "time 52\n",
      "time 53\n",
      "time 54\n",
      "time 55\n",
      "time 56\n",
      "time 57\n",
      "time 58\n",
      "time 59\n",
      "time 60\n",
      "time 61\n",
      "time 62\n",
      "time 63\n",
      "time 64\n",
      "time 65\n",
      "time 66\n",
      "time 67\n",
      "time 68\n"
     ]
    }
   ],
   "source": [
    "# run sim\n",
    "for i in range(0,len(ltime) - 1):\n",
    "    print('time', i)\n",
    "    m.execute(s, wk, ltime[i], ltime[i + 1])\n",
    "    numerical1 = np.append(\n",
    "        numerical1, s.s1[2] \n",
    "    ) \n",
    "    numerical2 = np.append(\n",
    "        numerical2, s.e1[2] \n",
    "    )\n",
    "    # Kelvin mapping backwards!"
   ]
  },
  {
   "cell_type": "code",
   "execution_count": 8,
   "id": "52bcbad0",
   "metadata": {},
   "outputs": [
    {
     "data": {
      "image/png": "[encoded data removed]",
      "text/plain": [
       "<Figure size 432x288 with 1 Axes>"
      ]
     },
     "metadata": {
      "needs_background": "light"
     },
     "output_type": "display_data"
    }
   ],
   "source": [
    "#%matplotlib notebook\n",
    "fig, ax = plt.subplots()\n",
    "#ax.plot(ltime, numerical * 100.0, label=\"numerical\")\n",
    "ax.plot(-numerical2*100, -numerical1 /1000000.0, label=\"numerical\")\n",
    "ax.set_ylabel(\"$\\\\sigma_{zz}$ / MPa\")\n",
    "ax.set_xlabel(\"$\\\\epsilon_{zz}$ / %\")\n",
    "fig.legend()\n",
    "fig.savefig(\"DP_mfront.pdf\")"
   ]
  },
  {
   "cell_type": "code",
   "execution_count": 9,
   "id": "525e0326",
   "metadata": {},
   "outputs": [
    {
     "data": {
      "image/png": "[encoded data removed]",
      "text/plain": [
       "<Figure size 432x288 with 1 Axes>"
      ]
     },
     "metadata": {
      "needs_background": "light"
     },
     "output_type": "display_data"
    }
   ],
   "source": [
    "plt.plot(ltime,numerical2)\n",
    "plt.show()"
   ]
  },
  {
   "cell_type": "code",
   "execution_count": 10,
   "id": "92223a31",
   "metadata": {},
   "outputs": [
    {
     "data": {
      "text/plain": [
       "[<matplotlib.lines.Line2D at 0x7f92ad152ca0>]"
      ]
     },
     "execution_count": 10,
     "metadata": {},
     "output_type": "execute_result"
    },
    {
     "data": {
      "image/png": "[encoded data removed]",
      "text/plain": [
       "<Figure size 432x288 with 1 Axes>"
      ]
     },
     "metadata": {
      "needs_background": "light"
     },
     "output_type": "display_data"
    }
   ],
   "source": [
    "plt.plot(ltime,numerical1)"
   ]
  },
  {
   "cell_type": "code",
   "execution_count": null,
   "id": "b294321e",
   "metadata": {},
   "outputs": [],
   "source": []
  }
 ],
 "metadata": {
  "kernelspec": {
   "display_name": "Python 3",
   "language": "python",
   "name": "python3"
  },
  "language_info": {
   "codemirror_mode": {
    "name": "ipython",
    "version": 3
   },
   "file_extension": ".py",
   "mimetype": "text/x-python",
   "name": "python",
   "nbconvert_exporter": "python",
   "pygments_lexer": "ipython3",
   "version": "3.8.10"
  }
 },
 "nbformat": 4,
 "nbformat_minor": 5
}
